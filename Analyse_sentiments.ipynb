{
 "cells": [
  {
   "cell_type": "markdown",
   "id": "8a77807f92f26ee",
   "metadata": {},
   "source": [
    "# L'analyse de sentiments\n",
    "\n",
    "L'analyse des sentiments est l'une des méthodes les plus populaires pour analyser un texte. \n",
    "Elle permet d'apprécier le sentiment exprimé par l'auteur du texte. Cela permet d'avoir une meilleure vue d'ensemble sur son assentiment lors de la rédaction de son texte ou de son document. C'est un excellent d'apprécier l'état émotionnel de l'auteur. "
   ]
  },
  {
   "metadata": {},
   "cell_type": "markdown",
   "source": "# Importer les bibliothèques nécessaires \n",
   "id": "a447bf6a3db6281b"
  },
  {
   "metadata": {
    "ExecuteTime": {
     "end_time": "2025-01-11T18:15:28.059210Z",
     "start_time": "2025-01-11T18:15:11.910340Z"
    }
   },
   "cell_type": "code",
   "source": [
    "from datasets import load_dataset\n",
    "from nltk.sentiment.vader import SentimentIntensityAnalyzer\n",
    "from textblob import TextBlob\n",
    "#from sklearn.feature_extraction.text import TfidfVectorizer\n",
    "#from sklearn.pipeline import Pipeline\n",
    "from sklearn.linear_model import LogisticRegression\n",
    "from sklearn.ensemble import RandomForestClassifier\n",
    "from sklearn.svm import SVC\n",
    "from sklearn.metrics import classification_report, accuracy_score, confusion_matrix\n",
    "from sklearn.model_selection import GridSearchCV\n",
    "import pandas as pd\n",
    "import seaborn as sns\n",
    "import matplotlib.pyplot as plt\n",
    "import nltk\n",
    "from scipy import stats"
   ],
   "id": "b9e8f3bf36ab3933",
   "outputs": [],
   "execution_count": 1
  },
  {
   "metadata": {},
   "cell_type": "markdown",
   "source": "# Télécharger les resources nécessaires pour VADER et Instancier l'analyseur VADER",
   "id": "85e9345d7694478f"
  },
  {
   "metadata": {
    "ExecuteTime": {
     "end_time": "2025-01-11T18:15:42.670046Z",
     "start_time": "2025-01-11T18:15:41.081042Z"
    }
   },
   "cell_type": "code",
   "source": [
    "# Télécharger les ressources nécessaires pour VADER\n",
    "nltk.download(\"vader_lexicon\")\n",
    "\n",
    "# Instancier l'analyseur VADER\n",
    "analyzer = SentimentIntensityAnalyzer()"
   ],
   "id": "f5ae02787f44db6b",
   "outputs": [
    {
     "name": "stderr",
     "output_type": "stream",
     "text": [
      "[nltk_data] Downloading package vader_lexicon to C:\\Users\\Houphouet\n",
      "[nltk_data]     Kouadio\\AppData\\Roaming\\nltk_data...\n",
      "[nltk_data]   Package vader_lexicon is already up-to-date!\n"
     ]
    }
   ],
   "execution_count": 2
  },
  {
   "cell_type": "markdown",
   "id": "98667b36c14f93c0",
   "metadata": {},
   "source": [
    "# Importer les données d'entrainement et de test \n",
    "L'ensemble de données porte sur l'avis des consommateurs sur Amazon. Les données couvrent une période de 18 ans, dont environ 3,5 millions d'avis jusqu'en mars 2013. Les avis incluent des informations sur les produits et les utilisateurs, des notes et un avis en texte brut."
   ]
  },
  {
   "cell_type": "code",
   "id": "fbc121e30a2defb3",
   "metadata": {
    "ExecuteTime": {
     "end_time": "2025-01-11T18:16:10.354552Z",
     "start_time": "2025-01-11T18:15:48.987961Z"
    }
   },
   "source": [
    "# Charger le jeu de données\n",
    "amazon = load_dataset(\"fancyzhx/amazon_polarity\")\n",
    "amazon"
   ],
   "outputs": [
    {
     "data": {
      "text/plain": [
       "DatasetDict({\n",
       "    train: Dataset({\n",
       "        features: ['label', 'title', 'content'],\n",
       "        num_rows: 3600000\n",
       "    })\n",
       "    test: Dataset({\n",
       "        features: ['label', 'title', 'content'],\n",
       "        num_rows: 400000\n",
       "    })\n",
       "})"
      ]
     },
     "execution_count": 3,
     "metadata": {},
     "output_type": "execute_result"
    }
   ],
   "execution_count": 3
  },
  {
   "cell_type": "markdown",
   "id": "cca3bbad9b6d0fe",
   "metadata": {},
   "source": [
    "# Prétraitement des données \n",
    "Les données étant importante, un échantillonnage sera faite en vue de faciliter l'éxécution du code sur l'ordinateur. \n",
    "\n",
    "Selection les 5000 lignes de données aussi bien de train (entrainement) que de test (validation)"
   ]
  },
  {
   "cell_type": "code",
   "id": "942a04162a45bea6",
   "metadata": {
    "ExecuteTime": {
     "end_time": "2025-01-11T18:16:24.682904Z",
     "start_time": "2025-01-11T18:16:17.173380Z"
    }
   },
   "source": [
    "# Prétraitement des données\n",
    "def preprocess_data(dataset, num_samples=5000):\n",
    "    data = dataset.shuffle(seed=42).select(range(num_samples))\n",
    "    texts = data[\"content\"]\n",
    "    labels = data[\"label\"]\n",
    "    return texts, labels\n",
    "\n",
    "# Échantillonnage des données d'entraînement et de test\n",
    "train_texts, train_labels = preprocess_data(amazon[\"train\"], 5000)\n",
    "test_texts, test_labels = preprocess_data(amazon[\"test\"], 5000)"
   ],
   "outputs": [],
   "execution_count": 4
  },
  {
   "cell_type": "markdown",
   "id": "3f1524b1c4f1fcc6",
   "metadata": {},
   "source": "# Calcul des scores de sentiement sur avec les données train et test"
  },
  {
   "cell_type": "code",
   "id": "25d7c7690a0eafd6",
   "metadata": {
    "ExecuteTime": {
     "end_time": "2025-01-11T18:17:08.861349Z",
     "start_time": "2025-01-11T18:16:44.899372Z"
    }
   },
   "source": [
    "# Fonction pour calculer les scores de sentiment\n",
    "def compute_sentiment_scores(texts):\n",
    "    vader_neg, vader_neu, vader_pos, vader_compound = [], [], [], []\n",
    "    textblob_polarity, textblob_subjectivity = [], []\n",
    "\n",
    "    for review in texts:\n",
    "        # Scores VADER\n",
    "        vader_sent = analyzer.polarity_scores(review)\n",
    "        vader_neg.append(vader_sent[\"neg\"])\n",
    "        vader_neu.append(vader_sent[\"neu\"])\n",
    "        vader_pos.append(vader_sent[\"pos\"])\n",
    "        vader_compound.append(vader_sent[\"compound\"])\n",
    "\n",
    "        # Scores TextBlob\n",
    "        textblob_sent = TextBlob(review).sentiment\n",
    "        textblob_polarity.append(textblob_sent.polarity)\n",
    "        textblob_subjectivity.append(textblob_sent.subjectivity)\n",
    "\n",
    "    return pd.DataFrame({\n",
    "        \"vader_neg\": vader_neg,\n",
    "        \"vader_neu\": vader_neu,\n",
    "        \"vader_pos\": vader_pos,\n",
    "        \"vader_compound\": vader_compound,\n",
    "        \"textblob_polarity\": textblob_polarity,\n",
    "        \"textblob_subjectivity\": textblob_subjectivity\n",
    "    })\n",
    "\n",
    "# Calcul des scores pour les ensembles train et test\n",
    "train_scores = compute_sentiment_scores(train_texts)\n",
    "test_scores = compute_sentiment_scores(test_texts)"
   ],
   "outputs": [],
   "execution_count": 5
  },
  {
   "metadata": {},
   "cell_type": "markdown",
   "source": "# Afficher les scores des sentiments des données train",
   "id": "2155d0c99bdaaed6"
  },
  {
   "cell_type": "code",
   "id": "acc316499e52a055",
   "metadata": {
    "ExecuteTime": {
     "end_time": "2025-01-11T18:17:16.256563Z",
     "start_time": "2025-01-11T18:17:16.193564Z"
    }
   },
   "source": "train_scores",
   "outputs": [
    {
     "data": {
      "text/plain": [
       "      vader_neg  vader_neu  vader_pos  vader_compound  textblob_polarity  \\\n",
       "0         0.044      0.745      0.211          0.9515           0.298333   \n",
       "1         0.099      0.840      0.062         -0.2091           0.084762   \n",
       "2         0.046      0.723      0.231          0.8878           0.237374   \n",
       "3         0.020      0.892      0.088          0.8268          -0.088194   \n",
       "4         0.049      0.844      0.107          0.6330           0.373016   \n",
       "...         ...        ...        ...             ...                ...   \n",
       "4995      0.084      0.805      0.111          0.1779           0.500000   \n",
       "4996      0.077      0.749      0.174          0.6643          -0.206250   \n",
       "4997      0.081      0.884      0.035         -0.8043           0.033654   \n",
       "4998      0.029      0.757      0.214          0.9336           0.233333   \n",
       "4999      0.109      0.716      0.176          0.8010           0.219940   \n",
       "\n",
       "      textblob_subjectivity  \n",
       "0                  0.714167  \n",
       "1                  0.481905  \n",
       "2                  0.378283  \n",
       "3                  0.404861  \n",
       "4                  0.623016  \n",
       "...                     ...  \n",
       "4995               0.500000  \n",
       "4996               0.481250  \n",
       "4997               0.400000  \n",
       "4998               0.295238  \n",
       "4999               0.503869  \n",
       "\n",
       "[5000 rows x 6 columns]"
      ],
      "text/html": [
       "<div>\n",
       "<style scoped>\n",
       "    .dataframe tbody tr th:only-of-type {\n",
       "        vertical-align: middle;\n",
       "    }\n",
       "\n",
       "    .dataframe tbody tr th {\n",
       "        vertical-align: top;\n",
       "    }\n",
       "\n",
       "    .dataframe thead th {\n",
       "        text-align: right;\n",
       "    }\n",
       "</style>\n",
       "<table border=\"1\" class=\"dataframe\">\n",
       "  <thead>\n",
       "    <tr style=\"text-align: right;\">\n",
       "      <th></th>\n",
       "      <th>vader_neg</th>\n",
       "      <th>vader_neu</th>\n",
       "      <th>vader_pos</th>\n",
       "      <th>vader_compound</th>\n",
       "      <th>textblob_polarity</th>\n",
       "      <th>textblob_subjectivity</th>\n",
       "    </tr>\n",
       "  </thead>\n",
       "  <tbody>\n",
       "    <tr>\n",
       "      <th>0</th>\n",
       "      <td>0.044</td>\n",
       "      <td>0.745</td>\n",
       "      <td>0.211</td>\n",
       "      <td>0.9515</td>\n",
       "      <td>0.298333</td>\n",
       "      <td>0.714167</td>\n",
       "    </tr>\n",
       "    <tr>\n",
       "      <th>1</th>\n",
       "      <td>0.099</td>\n",
       "      <td>0.840</td>\n",
       "      <td>0.062</td>\n",
       "      <td>-0.2091</td>\n",
       "      <td>0.084762</td>\n",
       "      <td>0.481905</td>\n",
       "    </tr>\n",
       "    <tr>\n",
       "      <th>2</th>\n",
       "      <td>0.046</td>\n",
       "      <td>0.723</td>\n",
       "      <td>0.231</td>\n",
       "      <td>0.8878</td>\n",
       "      <td>0.237374</td>\n",
       "      <td>0.378283</td>\n",
       "    </tr>\n",
       "    <tr>\n",
       "      <th>3</th>\n",
       "      <td>0.020</td>\n",
       "      <td>0.892</td>\n",
       "      <td>0.088</td>\n",
       "      <td>0.8268</td>\n",
       "      <td>-0.088194</td>\n",
       "      <td>0.404861</td>\n",
       "    </tr>\n",
       "    <tr>\n",
       "      <th>4</th>\n",
       "      <td>0.049</td>\n",
       "      <td>0.844</td>\n",
       "      <td>0.107</td>\n",
       "      <td>0.6330</td>\n",
       "      <td>0.373016</td>\n",
       "      <td>0.623016</td>\n",
       "    </tr>\n",
       "    <tr>\n",
       "      <th>...</th>\n",
       "      <td>...</td>\n",
       "      <td>...</td>\n",
       "      <td>...</td>\n",
       "      <td>...</td>\n",
       "      <td>...</td>\n",
       "      <td>...</td>\n",
       "    </tr>\n",
       "    <tr>\n",
       "      <th>4995</th>\n",
       "      <td>0.084</td>\n",
       "      <td>0.805</td>\n",
       "      <td>0.111</td>\n",
       "      <td>0.1779</td>\n",
       "      <td>0.500000</td>\n",
       "      <td>0.500000</td>\n",
       "    </tr>\n",
       "    <tr>\n",
       "      <th>4996</th>\n",
       "      <td>0.077</td>\n",
       "      <td>0.749</td>\n",
       "      <td>0.174</td>\n",
       "      <td>0.6643</td>\n",
       "      <td>-0.206250</td>\n",
       "      <td>0.481250</td>\n",
       "    </tr>\n",
       "    <tr>\n",
       "      <th>4997</th>\n",
       "      <td>0.081</td>\n",
       "      <td>0.884</td>\n",
       "      <td>0.035</td>\n",
       "      <td>-0.8043</td>\n",
       "      <td>0.033654</td>\n",
       "      <td>0.400000</td>\n",
       "    </tr>\n",
       "    <tr>\n",
       "      <th>4998</th>\n",
       "      <td>0.029</td>\n",
       "      <td>0.757</td>\n",
       "      <td>0.214</td>\n",
       "      <td>0.9336</td>\n",
       "      <td>0.233333</td>\n",
       "      <td>0.295238</td>\n",
       "    </tr>\n",
       "    <tr>\n",
       "      <th>4999</th>\n",
       "      <td>0.109</td>\n",
       "      <td>0.716</td>\n",
       "      <td>0.176</td>\n",
       "      <td>0.8010</td>\n",
       "      <td>0.219940</td>\n",
       "      <td>0.503869</td>\n",
       "    </tr>\n",
       "  </tbody>\n",
       "</table>\n",
       "<p>5000 rows × 6 columns</p>\n",
       "</div>"
      ]
     },
     "execution_count": 6,
     "metadata": {},
     "output_type": "execute_result"
    }
   ],
   "execution_count": 6
  },
  {
   "metadata": {},
   "cell_type": "markdown",
   "source": "# Afficher les scores des sentiments des données test",
   "id": "a128434ef7c41195"
  },
  {
   "cell_type": "code",
   "id": "a1d864c1b94eacb0",
   "metadata": {
    "ExecuteTime": {
     "end_time": "2025-01-11T18:17:23.628918Z",
     "start_time": "2025-01-11T18:17:23.592917Z"
    }
   },
   "source": "test_scores",
   "outputs": [
    {
     "data": {
      "text/plain": [
       "      vader_neg  vader_neu  vader_pos  vader_compound  textblob_polarity  \\\n",
       "0         0.104      0.769      0.126          0.1531           0.283333   \n",
       "1         0.094      0.806      0.100          0.1159           0.066667   \n",
       "2         0.021      0.826      0.153          0.8765           0.256944   \n",
       "3         0.072      0.928      0.000         -0.4215           0.000000   \n",
       "4         0.227      0.710      0.063         -0.9154          -0.322727   \n",
       "...         ...        ...        ...             ...                ...   \n",
       "4995      0.101      0.829      0.069         -0.4592           0.052885   \n",
       "4996      0.080      0.805      0.115          0.2732           0.195000   \n",
       "4997      0.038      0.842      0.120          0.6801           0.062500   \n",
       "4998      0.055      0.945      0.000         -0.1027          -0.071429   \n",
       "4999      0.000      0.641      0.359          0.8126           0.310000   \n",
       "\n",
       "      textblob_subjectivity  \n",
       "0                  0.360000  \n",
       "1                  0.600000  \n",
       "2                  0.506944  \n",
       "3                  0.000000  \n",
       "4                  0.639394  \n",
       "...                     ...  \n",
       "4995               0.548718  \n",
       "4996               0.565000  \n",
       "4997               0.470833  \n",
       "4998               0.214286  \n",
       "4999               0.471667  \n",
       "\n",
       "[5000 rows x 6 columns]"
      ],
      "text/html": [
       "<div>\n",
       "<style scoped>\n",
       "    .dataframe tbody tr th:only-of-type {\n",
       "        vertical-align: middle;\n",
       "    }\n",
       "\n",
       "    .dataframe tbody tr th {\n",
       "        vertical-align: top;\n",
       "    }\n",
       "\n",
       "    .dataframe thead th {\n",
       "        text-align: right;\n",
       "    }\n",
       "</style>\n",
       "<table border=\"1\" class=\"dataframe\">\n",
       "  <thead>\n",
       "    <tr style=\"text-align: right;\">\n",
       "      <th></th>\n",
       "      <th>vader_neg</th>\n",
       "      <th>vader_neu</th>\n",
       "      <th>vader_pos</th>\n",
       "      <th>vader_compound</th>\n",
       "      <th>textblob_polarity</th>\n",
       "      <th>textblob_subjectivity</th>\n",
       "    </tr>\n",
       "  </thead>\n",
       "  <tbody>\n",
       "    <tr>\n",
       "      <th>0</th>\n",
       "      <td>0.104</td>\n",
       "      <td>0.769</td>\n",
       "      <td>0.126</td>\n",
       "      <td>0.1531</td>\n",
       "      <td>0.283333</td>\n",
       "      <td>0.360000</td>\n",
       "    </tr>\n",
       "    <tr>\n",
       "      <th>1</th>\n",
       "      <td>0.094</td>\n",
       "      <td>0.806</td>\n",
       "      <td>0.100</td>\n",
       "      <td>0.1159</td>\n",
       "      <td>0.066667</td>\n",
       "      <td>0.600000</td>\n",
       "    </tr>\n",
       "    <tr>\n",
       "      <th>2</th>\n",
       "      <td>0.021</td>\n",
       "      <td>0.826</td>\n",
       "      <td>0.153</td>\n",
       "      <td>0.8765</td>\n",
       "      <td>0.256944</td>\n",
       "      <td>0.506944</td>\n",
       "    </tr>\n",
       "    <tr>\n",
       "      <th>3</th>\n",
       "      <td>0.072</td>\n",
       "      <td>0.928</td>\n",
       "      <td>0.000</td>\n",
       "      <td>-0.4215</td>\n",
       "      <td>0.000000</td>\n",
       "      <td>0.000000</td>\n",
       "    </tr>\n",
       "    <tr>\n",
       "      <th>4</th>\n",
       "      <td>0.227</td>\n",
       "      <td>0.710</td>\n",
       "      <td>0.063</td>\n",
       "      <td>-0.9154</td>\n",
       "      <td>-0.322727</td>\n",
       "      <td>0.639394</td>\n",
       "    </tr>\n",
       "    <tr>\n",
       "      <th>...</th>\n",
       "      <td>...</td>\n",
       "      <td>...</td>\n",
       "      <td>...</td>\n",
       "      <td>...</td>\n",
       "      <td>...</td>\n",
       "      <td>...</td>\n",
       "    </tr>\n",
       "    <tr>\n",
       "      <th>4995</th>\n",
       "      <td>0.101</td>\n",
       "      <td>0.829</td>\n",
       "      <td>0.069</td>\n",
       "      <td>-0.4592</td>\n",
       "      <td>0.052885</td>\n",
       "      <td>0.548718</td>\n",
       "    </tr>\n",
       "    <tr>\n",
       "      <th>4996</th>\n",
       "      <td>0.080</td>\n",
       "      <td>0.805</td>\n",
       "      <td>0.115</td>\n",
       "      <td>0.2732</td>\n",
       "      <td>0.195000</td>\n",
       "      <td>0.565000</td>\n",
       "    </tr>\n",
       "    <tr>\n",
       "      <th>4997</th>\n",
       "      <td>0.038</td>\n",
       "      <td>0.842</td>\n",
       "      <td>0.120</td>\n",
       "      <td>0.6801</td>\n",
       "      <td>0.062500</td>\n",
       "      <td>0.470833</td>\n",
       "    </tr>\n",
       "    <tr>\n",
       "      <th>4998</th>\n",
       "      <td>0.055</td>\n",
       "      <td>0.945</td>\n",
       "      <td>0.000</td>\n",
       "      <td>-0.1027</td>\n",
       "      <td>-0.071429</td>\n",
       "      <td>0.214286</td>\n",
       "    </tr>\n",
       "    <tr>\n",
       "      <th>4999</th>\n",
       "      <td>0.000</td>\n",
       "      <td>0.641</td>\n",
       "      <td>0.359</td>\n",
       "      <td>0.8126</td>\n",
       "      <td>0.310000</td>\n",
       "      <td>0.471667</td>\n",
       "    </tr>\n",
       "  </tbody>\n",
       "</table>\n",
       "<p>5000 rows × 6 columns</p>\n",
       "</div>"
      ]
     },
     "execution_count": 7,
     "metadata": {},
     "output_type": "execute_result"
    }
   ],
   "execution_count": 7
  },
  {
   "metadata": {},
   "cell_type": "markdown",
   "source": "# Décompte des sentiments ",
   "id": "8c56ee3b7027a110"
  },
  {
   "metadata": {
    "ExecuteTime": {
     "end_time": "2025-01-11T18:17:32.896818Z",
     "start_time": "2025-01-11T18:17:32.874819Z"
    }
   },
   "cell_type": "code",
   "source": [
    "# Nombre total de chaque sentiment pour VADER\n",
    "vader_totals = {\n",
    "    \"negatif_train\": (train_scores[\"vader_neg\"] > 0).sum(),\n",
    "    \"negatif_test\": (test_scores[\"vader_neg\"] > 0).sum(),\n",
    "    \"neutre_train\": (train_scores[\"vader_neu\"] > 0).sum(),\n",
    "    \"neutre_test\": (test_scores[\"vader_neu\"] > 0).sum(),\n",
    "    \"positif_train\": (train_scores[\"vader_pos\"] > 0).sum(),\n",
    "    \"positif_test\": (test_scores[\"vader_pos\"] > 0).sum()\n",
    "}\n",
    "\n",
    "# Nombre total de chaque sentiment pour TextBlob\n",
    "textblob_totals = {\n",
    "    \"polarite_positive_train\": (train_scores[\"textblob_polarity\"] > 0).sum(),\n",
    "    \"polarite_positive_test\": (test_scores[\"textblob_polarity\"] > 0).sum(),\n",
    "    \"polarite_negative_train\": (train_scores[\"textblob_polarity\"] < 0).sum(),\n",
    "    \"polarite_negative_test\": (test_scores[\"textblob_polarity\"] < 0).sum(),\n",
    "    \"subjectivite_train\": (train_scores[\"textblob_subjectivity\"] > 0.5).sum(),\n",
    "    \"subjectivite_test\": (test_scores[\"textblob_subjectivity\"] > 0.5).sum()\n",
    "}\n",
    "\n",
    "# Affichage des résultats\n",
    "print(\"Nombre total des sentiments pour VADER :\")\n",
    "for sentiment, total in vader_totals.items():\n",
    "    print(f\"{sentiment.capitalize()} : {total}\")\n",
    "\n",
    "print(\"\\nNombre total des sentiments pour TextBlob :\")\n",
    "for sentiment, total in textblob_totals.items():\n",
    "    print(f\"{sentiment.replace('_', ' ').capitalize()} : {total}\")\n"
   ],
   "id": "cb24dbe969854a0",
   "outputs": [
    {
     "name": "stdout",
     "output_type": "stream",
     "text": [
      "Nombre total des sentiments pour VADER :\n",
      "Negatif_train : 3626\n",
      "Negatif_test : 3602\n",
      "Neutre_train : 5000\n",
      "Neutre_test : 5000\n",
      "Positif_train : 4624\n",
      "Positif_test : 4604\n",
      "\n",
      "Nombre total des sentiments pour TextBlob :\n",
      "Polarite positive train : 3785\n",
      "Polarite positive test : 3813\n",
      "Polarite negative train : 1103\n",
      "Polarite negative test : 1053\n",
      "Subjectivite train : 2811\n",
      "Subjectivite test : 2749\n"
     ]
    }
   ],
   "execution_count": 8
  },
  {
   "metadata": {},
   "cell_type": "markdown",
   "source": "# Distributions comparatives des scores de sentiments train et test",
   "id": "652d921a3560dd8d"
  },
  {
   "cell_type": "code",
   "id": "3287411a30ff4b2b",
   "metadata": {
    "ExecuteTime": {
     "end_time": "2025-01-11T18:17:46.954850Z",
     "start_time": "2025-01-11T18:17:42.024887Z"
    }
   },
   "source": [
    "# Fonction pour analyser les distributions\n",
    "def plot_distributions(train_scores, test_scores):\n",
    "    plt.figure(figsize=(15, 10))\n",
    "    for i, column in enumerate(train_scores.columns[:-1]):  # Exclure \"label\"\n",
    "        plt.subplot(2, 3, i + 1)\n",
    "        sns.kdeplot(train_scores[column], label=\"Train\", fill=True)\n",
    "        sns.kdeplot(test_scores[column], label=\"Test\", fill=True)\n",
    "        plt.title(f\"Distribution de {column}\")\n",
    "        plt.legend()\n",
    "    plt.tight_layout()\n",
    "    plt.show()\n",
    "\n",
    "plot_distributions(train_scores, test_scores)"
   ],
   "outputs": [
    {
     "data": {
      "text/plain": [
       "<Figure size 1500x1000 with 5 Axes>"
      ],
      "image/png": "[encoded data removed]"
     },
     "metadata": {},
     "output_type": "display_data"
    }
   ],
   "execution_count": 9
  },
  {
   "cell_type": "markdown",
   "id": "b4d58bed93caa56b",
   "metadata": {},
   "source": [
    "# Test statistique de Kolmogorov-Smirnov pour vérifier l'effet des données sur les scores de sentiment\n",
    "Les résultats montres que les distributions sont similaires. Il n'y a donc pas de différence de sentiments entre les données test et train"
   ]
  },
  {
   "cell_type": "code",
   "id": "99334ef1460392ce",
   "metadata": {
    "ExecuteTime": {
     "end_time": "2025-01-11T18:18:05.912926Z",
     "start_time": "2025-01-11T18:18:05.858930Z"
    }
   },
   "source": [
    "# Test statistique pour vérifier la similarité des distributions\n",
    "print(\"\\nTests statistiques de Kolmogorov-Smirnov entre train et test:\")\n",
    "for column in train_scores.columns[:-1]:  # Exclure \"label\"\n",
    "    statistic, pvalue = stats.ks_2samp(train_scores[column], test_scores[column])\n",
    "    print(f\"{column}:\")\n",
    "    print(f\"  Statistique KS: {statistic:.4f}\")\n",
    "    print(f\"  p-value: {pvalue:.4f}\")\n",
    "    if pvalue < 0.05:\n",
    "        print(\"  Les distributions sont significativement différentes.\")\n",
    "    else:\n",
    "        print(\"  Les distributions sont similaires.\")"
   ],
   "outputs": [
    {
     "name": "stdout",
     "output_type": "stream",
     "text": [
      "\n",
      "Tests statistiques de Kolmogorov-Smirnov entre train et test:\n",
      "vader_neg:\n",
      "  Statistique KS: 0.0070\n",
      "  p-value: 0.9997\n",
      "  Les distributions sont similaires.\n",
      "vader_neu:\n",
      "  Statistique KS: 0.0232\n",
      "  p-value: 0.1356\n",
      "  Les distributions sont similaires.\n",
      "vader_pos:\n",
      "  Statistique KS: 0.0214\n",
      "  p-value: 0.2024\n",
      "  Les distributions sont similaires.\n",
      "vader_compound:\n",
      "  Statistique KS: 0.0096\n",
      "  p-value: 0.9753\n",
      "  Les distributions sont similaires.\n",
      "textblob_polarity:\n",
      "  Statistique KS: 0.0110\n",
      "  p-value: 0.9229\n",
      "  Les distributions sont similaires.\n"
     ]
    }
   ],
   "execution_count": 10
  },
  {
   "cell_type": "markdown",
   "id": "4898604386cc2f51",
   "metadata": {},
   "source": "# Prédire les scores de sentiment des données test à partir des données train\n"
  },
  {
   "metadata": {},
   "cell_type": "markdown",
   "source": "### Ajouter les labels",
   "id": "4c893b298888b0c9"
  },
  {
   "cell_type": "code",
   "id": "178f4e43-6379-4fda-a7be-90d128ecacb8",
   "metadata": {
    "ExecuteTime": {
     "end_time": "2025-01-11T18:18:09.730686Z",
     "start_time": "2025-01-11T18:18:09.700680Z"
    }
   },
   "source": [
    "# Ajouter les labels pour le machine learning\n",
    "train_scores[\"label\"] = train_labels\n",
    "test_scores[\"label\"] = test_labels"
   ],
   "outputs": [],
   "execution_count": 11
  },
  {
   "metadata": {},
   "cell_type": "markdown",
   "source": "### Préparer les features et les labels ",
   "id": "3c46081ecebc92dd"
  },
  {
   "metadata": {
    "ExecuteTime": {
     "end_time": "2025-01-11T18:18:14.331679Z",
     "start_time": "2025-01-11T18:18:14.290685Z"
    }
   },
   "cell_type": "code",
   "source": [
    "# Préparation des features et labels\n",
    "X_train = train_scores.drop(columns=\"label\")\n",
    "y_train = train_scores[\"label\"]\n",
    "X_test = test_scores.drop(columns=\"label\")\n",
    "y_test = test_scores[\"label\"]"
   ],
   "id": "186c585db0bec500",
   "outputs": [],
   "execution_count": 12
  },
  {
   "metadata": {},
   "cell_type": "markdown",
   "source": "### Création et optimisation des modèles",
   "id": "668cf98fd0ea32f"
  },
  {
   "metadata": {
    "ExecuteTime": {
     "end_time": "2025-01-11T18:20:49.755093Z",
     "start_time": "2025-01-11T18:18:19.356237Z"
    }
   },
   "cell_type": "code",
   "source": [
    "models = {\n",
    "    \"Logistic Regression\": LogisticRegression(),\n",
    "    \"Random Forest\": RandomForestClassifier(),\n",
    "    \"SVM\": SVC(probability=True),\n",
    "}\n",
    "\n",
    "param_grids = {\n",
    "    \"Logistic Regression\": {\"C\": [0.1, 1, 10]},\n",
    "    \"Random Forest\": {\"n_estimators\": [100, 200], \"max_depth\": [10, 20]},\n",
    "    \"SVM\": {\"C\": [0.1, 1, 10], \"kernel\": [\"linear\", \"rbf\"]},\n",
    "}\n",
    "\n",
    "best_models = {}\n",
    "\n",
    "for name, model in models.items():\n",
    "    print(f\"Optimisation de {name}...\")\n",
    "    grid_search = GridSearchCV(model, param_grids[name], cv=5, scoring=\"accuracy\")\n",
    "    grid_search.fit(X_train, y_train)\n",
    "    best_models[name] = grid_search.best_estimator_\n",
    "    print(f\"Meilleurs paramètres pour {name}: {grid_search.best_params_}\")"
   ],
   "id": "fca82c1f25cfb6c5",
   "outputs": [
    {
     "name": "stdout",
     "output_type": "stream",
     "text": [
      "Optimisation de Logistic Regression...\n",
      "Meilleurs paramètres pour Logistic Regression: {'C': 10}\n",
      "Optimisation de Random Forest...\n",
      "Meilleurs paramètres pour Random Forest: {'max_depth': 10, 'n_estimators': 200}\n",
      "Optimisation de SVM...\n",
      "Meilleurs paramètres pour SVM: {'C': 10, 'kernel': 'linear'}\n"
     ]
    }
   ],
   "execution_count": 13
  },
  {
   "metadata": {},
   "cell_type": "markdown",
   "source": "### Comparaison des modèles",
   "id": "a02e4f012e32cc6f"
  },
  {
   "cell_type": "code",
   "id": "6f940031-c91e-42be-b185-5288b5347b4d",
   "metadata": {
    "ExecuteTime": {
     "end_time": "2025-01-11T18:21:19.765656Z",
     "start_time": "2025-01-11T18:21:18.382424Z"
    }
   },
   "source": [
    "# Comparaison des modèles et détermination du meilleur\n",
    "best_model_name = None\n",
    "best_accuracy = 0\n",
    "\n",
    "print(\"\\nÉvaluation des modèles et comparaison:\")\n",
    "for name, model in best_models.items():\n",
    "    y_pred = model.predict(X_test)\n",
    "    accuracy = accuracy_score(y_test, y_pred)\n",
    "    print(f\"\\n{name} - Rapport de classification:\")\n",
    "    print(classification_report(y_test, y_pred))\n",
    "    print(f\"Précision: {accuracy:.4f}\")\n",
    "    if accuracy > best_accuracy:\n",
    "        best_accuracy = accuracy\n",
    "        best_model_name = name\n",
    "\n",
    "# Afficher le meilleur modèle\n",
    "print(\"\\nMeilleur modèle parmi ceux testés:\")\n",
    "print(f\"Le modèle {best_model_name} a obtenu la meilleure précision avec un score de {best_accuracy:.4f}.\")\n",
    "\n",
    "\n",
    "# Évaluation des modèles et sélection du meilleur\n",
    "#best_score = 0\n",
    "#best_model_name = None\n",
    "\n",
    "#for name, model in best_models.items():\n",
    "#    score = model.score(X_test, y_test)\n",
    "#    print(f\"Score de {name}: {score:.4f}\")\n",
    "#    if score > best_score:\n",
    "#         best_score = score\n",
    "#         best_model_name = name\n",
    "# \n",
    "# print(f\"\\nMeilleur modèle: {best_model_name} avec un score de {best_score:.4f}\")\n"
   ],
   "outputs": [
    {
     "name": "stdout",
     "output_type": "stream",
     "text": [
      "\n",
      "Évaluation des modèles et comparaison:\n",
      "\n",
      "Logistic Regression - Rapport de classification:\n",
      "              precision    recall  f1-score   support\n",
      "\n",
      "           0       0.76      0.79      0.77      2453\n",
      "           1       0.79      0.76      0.77      2547\n",
      "\n",
      "    accuracy                           0.77      5000\n",
      "   macro avg       0.77      0.77      0.77      5000\n",
      "weighted avg       0.77      0.77      0.77      5000\n",
      "\n",
      "Précision: 0.7732\n",
      "\n",
      "Random Forest - Rapport de classification:\n",
      "              precision    recall  f1-score   support\n",
      "\n",
      "           0       0.73      0.80      0.77      2453\n",
      "           1       0.79      0.72      0.75      2547\n",
      "\n",
      "    accuracy                           0.76      5000\n",
      "   macro avg       0.76      0.76      0.76      5000\n",
      "weighted avg       0.76      0.76      0.76      5000\n",
      "\n",
      "Précision: 0.7606\n",
      "\n",
      "SVM - Rapport de classification:\n",
      "              precision    recall  f1-score   support\n",
      "\n",
      "           0       0.75      0.80      0.78      2453\n",
      "           1       0.80      0.75      0.77      2547\n",
      "\n",
      "    accuracy                           0.77      5000\n",
      "   macro avg       0.77      0.77      0.77      5000\n",
      "weighted avg       0.77      0.77      0.77      5000\n",
      "\n",
      "Précision: 0.7728\n",
      "\n",
      "Meilleur modèle parmi ceux testés:\n",
      "Le modèle Logistic Regression a obtenu la meilleure précision avec un score de 0.7732.\n"
     ]
    }
   ],
   "execution_count": 14
  },
  {
   "metadata": {},
   "cell_type": "markdown",
   "source": "# Prédire un nouveau cas de sentiment pour un nouveau commentaire",
   "id": "2c06497ae10b88f1"
  },
  {
   "metadata": {
    "ExecuteTime": {
     "end_time": "2025-01-11T18:21:47.249368Z",
     "start_time": "2025-01-11T18:21:47.156030Z"
    }
   },
   "cell_type": "code",
   "source": [
    "\n",
    "# Utiliser le meilleur modèle pour les prédictions\n",
    "best_model = best_models[best_model_name]\n",
    "y_pred = best_model.predict(X_test)\n",
    "probas = best_model.predict_proba(X_test)\n",
    "\n",
    "# Fonction pour convertir les prédictions numériques en labels textuels\n",
    "def get_sentiment_label(prediction):\n",
    "    sentiment_map = {0: \"négatif\", 1: \"neutre\", 2: \"positif\"}\n",
    "    return sentiment_map[prediction]\n",
    "\n",
    "# Afficher quelques exemples de prédictions\n",
    "print(\"\\nExemples de prédictions:\")\n",
    "for i in range(min(10, len(y_test))):  \n",
    "    true_sentiment = get_sentiment_label(y_test.iloc[i])\n",
    "    pred_sentiment = get_sentiment_label(y_pred[i])\n",
    "    max_proba = max(probas[i])\n",
    "    \n",
    "    print(f\"\\nExemple {i+1}:\")\n",
    "    print(f\"Scores: {dict(X_test.iloc[i])}\")\n",
    "    print(f\"Sentiment réel: {true_sentiment}\")\n",
    "    print(f\"Sentiment prédit: {pred_sentiment}\")\n",
    "    print(f\"Probabilité: {max_proba:.2f}\")\n",
    "\n",
    "# Afficher le rapport de classification\n",
    "# D'abord, identifions les classes présentes dans nos données\n",
    "classes_presentes = sorted(list(set(y_test)))\n",
    "noms_classes = ['négatif', 'neutre'] if len(classes_presentes) == 2 else ['négatif', 'neutre', 'positif']\n",
    "\n",
    "print(\"\\nDistribution des classes dans l'ensemble de test:\")\n",
    "print(pd.Series(y_test).value_counts())\n",
    "\n",
    "\n",
    "# Fonction pour prédire le sentiment de nouveaux cas\n",
    "def predict_sentiment_from_scores(scores, model):\n",
    "    \"\"\"\n",
    "    Prédit le sentiment à partir des scores\n",
    "    \n",
    "    Parameters:\n",
    "    scores (dict ou pandas Series): Les scores d'entrée\n",
    "    model: Le modèle entraîné\n",
    "    \n",
    "    Returns:\n",
    "    str: Le sentiment prédit ('positif', 'négatif', ou 'neutre')\n",
    "    float: La probabilité de la prédiction\n",
    "    \"\"\"\n",
    "    # Convertir en DataFrame si nécessaire\n",
    "    if isinstance(scores, dict):\n",
    "        scores = pd.DataFrame([scores])\n",
    "    elif isinstance(scores, pd.Series):\n",
    "        scores = pd.DataFrame([scores])\n",
    "    \n",
    "    # Faire la prédiction\n",
    "    prediction = model.predict(scores)[0]\n",
    "    probabilities = model.predict_proba(scores)[0]\n",
    "    max_prob = max(probabilities)\n",
    "    \n",
    "    # Convertir la prédiction numérique en texte\n",
    "    sentiment_map = {0: \"négatif\", 1: \"neutre\", 2: \"positif\"}\n",
    "    predicted_sentiment = sentiment_map[prediction]\n",
    "    \n",
    "    return predicted_sentiment, max_prob\n",
    "\n",
    "# Exemple d'utilisation pour un nouveau cas\n",
    "print(\"\\nPrédiction pour un nouveau cas:\")\n",
    "nouveau_cas = X_test.iloc[0]  # Premier cas de test comme exemple\n",
    "sentiment, proba = predict_sentiment_from_scores(nouveau_cas, best_model)\n",
    "print(f\"Scores d'entrée: {dict(nouveau_cas)}\")\n",
    "print(f\"Sentiment prédit: {sentiment}\")\n",
    "print(f\"Probabilité: {proba:.2f}\")"
   ],
   "id": "138b42250f8203f",
   "outputs": [
    {
     "name": "stdout",
     "output_type": "stream",
     "text": [
      "\n",
      "Exemples de prédictions:\n",
      "\n",
      "Exemple 1:\n",
      "Scores: {'vader_neg': np.float64(0.104), 'vader_neu': np.float64(0.769), 'vader_pos': np.float64(0.126), 'vader_compound': np.float64(0.1531), 'textblob_polarity': np.float64(0.2833333333333333), 'textblob_subjectivity': np.float64(0.36)}\n",
      "Sentiment réel: neutre\n",
      "Sentiment prédit: négatif\n",
      "Probabilité: 0.54\n",
      "\n",
      "Exemple 2:\n",
      "Scores: {'vader_neg': np.float64(0.094), 'vader_neu': np.float64(0.806), 'vader_pos': np.float64(0.1), 'vader_compound': np.float64(0.1159), 'textblob_polarity': np.float64(0.06666666666666665), 'textblob_subjectivity': np.float64(0.6)}\n",
      "Sentiment réel: négatif\n",
      "Sentiment prédit: négatif\n",
      "Probabilité: 0.73\n",
      "\n",
      "Exemple 3:\n",
      "Scores: {'vader_neg': np.float64(0.021), 'vader_neu': np.float64(0.826), 'vader_pos': np.float64(0.153), 'vader_compound': np.float64(0.8765), 'textblob_polarity': np.float64(0.2569444444444444), 'textblob_subjectivity': np.float64(0.5069444444444444)}\n",
      "Sentiment réel: négatif\n",
      "Sentiment prédit: neutre\n",
      "Probabilité: 0.69\n",
      "\n",
      "Exemple 4:\n",
      "Scores: {'vader_neg': np.float64(0.072), 'vader_neu': np.float64(0.928), 'vader_pos': np.float64(0.0), 'vader_compound': np.float64(-0.4215), 'textblob_polarity': np.float64(0.0), 'textblob_subjectivity': np.float64(0.0)}\n",
      "Sentiment réel: négatif\n",
      "Sentiment prédit: négatif\n",
      "Probabilité: 0.86\n",
      "\n",
      "Exemple 5:\n",
      "Scores: {'vader_neg': np.float64(0.227), 'vader_neu': np.float64(0.71), 'vader_pos': np.float64(0.063), 'vader_compound': np.float64(-0.9154), 'textblob_polarity': np.float64(-0.3227272727272727), 'textblob_subjectivity': np.float64(0.6393939393939394)}\n",
      "Sentiment réel: négatif\n",
      "Sentiment prédit: négatif\n",
      "Probabilité: 0.98\n",
      "\n",
      "Exemple 6:\n",
      "Scores: {'vader_neg': np.float64(0.124), 'vader_neu': np.float64(0.734), 'vader_pos': np.float64(0.142), 'vader_compound': np.float64(-0.25), 'textblob_polarity': np.float64(0.3282407407407407), 'textblob_subjectivity': np.float64(0.575925925925926)}\n",
      "Sentiment réel: neutre\n",
      "Sentiment prédit: négatif\n",
      "Probabilité: 0.56\n",
      "\n",
      "Exemple 7:\n",
      "Scores: {'vader_neg': np.float64(0.066), 'vader_neu': np.float64(0.806), 'vader_pos': np.float64(0.129), 'vader_compound': np.float64(0.8618), 'textblob_polarity': np.float64(0.08249999999999999), 'textblob_subjectivity': np.float64(0.6100000000000001)}\n",
      "Sentiment réel: neutre\n",
      "Sentiment prédit: négatif\n",
      "Probabilité: 0.58\n",
      "\n",
      "Exemple 8:\n",
      "Scores: {'vader_neg': np.float64(0.0), 'vader_neu': np.float64(1.0), 'vader_pos': np.float64(0.0), 'vader_compound': np.float64(0.0), 'textblob_polarity': np.float64(-0.14375), 'textblob_subjectivity': np.float64(0.35625)}\n",
      "Sentiment réel: neutre\n",
      "Sentiment prédit: négatif\n",
      "Probabilité: 0.84\n",
      "\n",
      "Exemple 9:\n",
      "Scores: {'vader_neg': np.float64(0.079), 'vader_neu': np.float64(0.625), 'vader_pos': np.float64(0.295), 'vader_compound': np.float64(0.9825), 'textblob_polarity': np.float64(0.1862280701754386), 'textblob_subjectivity': np.float64(0.5738596491228072)}\n",
      "Sentiment réel: neutre\n",
      "Sentiment prédit: neutre\n",
      "Probabilité: 0.79\n",
      "\n",
      "Exemple 10:\n",
      "Scores: {'vader_neg': np.float64(0.0), 'vader_neu': np.float64(0.834), 'vader_pos': np.float64(0.166), 'vader_compound': np.float64(0.658), 'textblob_polarity': np.float64(0.36250000000000004), 'textblob_subjectivity': np.float64(0.65)}\n",
      "Sentiment réel: neutre\n",
      "Sentiment prédit: neutre\n",
      "Probabilité: 0.78\n",
      "\n",
      "Distribution des classes dans l'ensemble de test:\n",
      "label\n",
      "1    2547\n",
      "0    2453\n",
      "Name: count, dtype: int64\n",
      "\n",
      "Prédiction pour un nouveau cas:\n",
      "Scores d'entrée: {'vader_neg': np.float64(0.104), 'vader_neu': np.float64(0.769), 'vader_pos': np.float64(0.126), 'vader_compound': np.float64(0.1531), 'textblob_polarity': np.float64(0.2833333333333333), 'textblob_subjectivity': np.float64(0.36)}\n",
      "Sentiment prédit: négatif\n",
      "Probabilité: 0.54\n"
     ]
    }
   ],
   "execution_count": 15
  },
  {
   "metadata": {},
   "cell_type": "code",
   "outputs": [],
   "execution_count": null,
   "source": "",
   "id": "89559233863ae0ce"
  }
 ],
 "metadata": {
  "kernelspec": {
   "display_name": "Python 3 (ipykernel)",
   "language": "python",
   "name": "python3"
  },
  "language_info": {
   "codemirror_mode": {
    "name": "ipython",
    "version": 3
   },
   "file_extension": ".py",
   "mimetype": "text/x-python",
   "name": "python",
   "nbconvert_exporter": "python",
   "pygments_lexer": "ipython3",
   "version": "3.10.11"
  }
 },
 "nbformat": 4,
 "nbformat_minor": 5
}
